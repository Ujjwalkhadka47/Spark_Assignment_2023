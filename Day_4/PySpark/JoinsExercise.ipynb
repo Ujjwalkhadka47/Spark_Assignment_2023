{
  "cells": [
    {
      "cell_type": "markdown",
      "metadata": {
        "id": "cKOUpoTJSrrg"
      },
      "source": [
        "## Joins"
      ]
    },
    {
      "cell_type": "code",
      "execution_count": 1,
      "metadata": {
        "id": "yuEvSROVSrrk",
        "outputId": "be2978d8-982a-4a77-deed-5807cff22fbb"
      },
      "outputs": [
        {
          "name": "stderr",
          "output_type": "stream",
          "text": [
            "23/09/04 00:39:09 WARN Utils: Your hostname, anujs-MacBook-Air.local resolves to a loopback address: 127.0.0.1; using 192.168.1.67 instead (on interface en0)\n",
            "23/09/04 00:39:09 WARN Utils: Set SPARK_LOCAL_IP if you need to bind to another address\n",
            "Setting default log level to \"WARN\".\n",
            "To adjust logging level use sc.setLogLevel(newLevel). For SparkR, use setLogLevel(newLevel).\n",
            "23/09/04 00:39:09 WARN NativeCodeLoader: Unable to load native-hadoop library for your platform... using builtin-java classes where applicable\n",
            "23/09/04 00:39:10 WARN Utils: Service 'SparkUI' could not bind on port 4040. Attempting port 4041.\n"
          ]
        },
        {
          "name": "stderr",
          "output_type": "stream",
          "text": [
            "23/09/04 00:39:24 WARN GarbageCollectionMetrics: To enable non-built-in garbage collector(s) List(G1 Concurrent GC), users should configure it(them) to spark.eventLog.gcMetrics.youngGenerationGarbageCollectors or spark.eventLog.gcMetrics.oldGenerationGarbageCollectors\n"
          ]
        }
      ],
      "source": [
        "#Importing the library\n",
        "from pyspark.sql import SparkSession\n",
        "\n",
        "# Create a Spark session\n",
        "spark = SparkSession.builder.appName(\"day4\").getOrCreate()\n"
      ]
    },
    {
      "cell_type": "markdown",
      "metadata": {
        "id": "Q1BsRJJzSrrn"
      },
      "source": [
        "\n",
        "Question: You are given two DataFrames: employees_df and departments_df, which contain information about employees and their respective departments. The schema for the DataFrames is as follows:\n",
        "\n",
        "employees_df schema:\n",
        "|-- employee_id: integer (nullable = true)\n",
        "|-- employee_name: string (nullable = true)\n",
        "|-- department_id: integer (nullable = true)\n",
        "\n",
        "departments_df schema:\n",
        "\n",
        "|-- department_id: integer (nullable = true)\n",
        "|-- department_name: string (nullable = true)\n",
        "\n",
        "Employees DataFrame:\n",
        "                                                                                \n",
        "+-----------+-------------+-------------+\n",
        "|employee_id|employee_name|department_id|\n",
        "+-----------+-------------+-------------+\n",
        "|1          |Pallavi mam  |101          |\n",
        "|2          |Bob          |102          |\n",
        "|3          |Cathy        |101          |\n",
        "|4          |David        |103          |\n",
        "|5          |Amrit Sir    |104          |\n",
        "|6          |Alice        |null         |\n",
        "|7          |Eva          |null         |\n",
        "|8          |Frank        |110          |\n",
        "|9          |Grace        |109          |\n",
        "|10         |Henry        |null         |\n",
        "+-----------+-------------+-------------+\n",
        "\n",
        "\n",
        "\n",
        "Departments DataFrame:\n",
        "+-------------+------------------------+\n",
        "|department_id|department_name         |\n",
        "+-------------+------------------------+\n",
        "|101          |HR                      |\n",
        "|102          |Engineering             |\n",
        "|103          |Finance                 |\n",
        "|104          |Marketing               |\n",
        "|105          |Operations              |\n",
        "|106          |null                    |\n",
        "|107          |Operations              |\n",
        "|108          |Production              |\n",
        "|null         |Finance                 |\n",
        "|110          |Research and Development|\n",
        "+-------------+----------------------\n"
      ]
    },
    {
      "cell_type": "code",
      "execution_count": null,
      "metadata": {
        "id": "VOULO8eWSrro",
        "outputId": "c971652b-357e-4f87-dab2-f3ce9d18f5b7"
      },
      "outputs": [
        {
          "name": "stdout",
          "output_type": "stream",
          "text": [
            "Employees DataFrame:\n",
            "+-----------+-------------+-------------+\n",
            "|employee_id|employee_name|department_id|\n",
            "+-----------+-------------+-------------+\n",
            "|1          |Pallavi mam  |101          |\n",
            "|2          |Bob          |102          |\n",
            "|3          |Cathy        |101          |\n",
            "|4          |David        |103          |\n",
            "|5          |Amrit Sir    |104          |\n",
            "|6          |Alice        |null         |\n",
            "|7          |Eva          |null         |\n",
            "|8          |Frank        |110          |\n",
            "|9          |Grace        |109          |\n",
            "|10         |Henry        |null         |\n",
            "+-----------+-------------+-------------+\n",
            "\n",
            "root\n",
            " |-- employee_id: integer (nullable = true)\n",
            " |-- employee_name: string (nullable = true)\n",
            " |-- department_id: integer (nullable = true)\n",
            "\n",
            "Departments DataFrame:\n",
            "+-------------+------------------------+\n",
            "|department_id|department_name         |\n",
            "+-------------+------------------------+\n",
            "|101          |HR                      |\n",
            "|102          |Engineering             |\n",
            "|103          |Finance                 |\n",
            "|104          |Marketing               |\n",
            "|105          |Operations              |\n",
            "|106          |null                    |\n",
            "|107          |Operations              |\n",
            "|108          |Production              |\n",
            "|null         |Finance                 |\n",
            "|110          |Research and Development|\n",
            "+-------------+------------------------+\n",
            "\n",
            "root\n",
            " |-- department_id: integer (nullable = true)\n",
            " |-- department_name: string (nullable = true)\n",
            "\n"
          ]
        }
      ],
      "source": [
        "#Expected_solution"
      ]
    },
    {
      "cell_type": "code",
      "execution_count": 3,
      "metadata": {},
      "outputs": [],
      "source": [
        "#My_solution\n",
        "\n",
        "#Importing all the neccessary library for SQL Types\n",
        "from pyspark.sql.types import StructField,StructType,StringType,IntegerType"
      ]
    },
    {
      "cell_type": "code",
      "execution_count": 11,
      "metadata": {},
      "outputs": [
        {
          "name": "stdout",
          "output_type": "stream",
          "text": [
            "Employee Dataframe\n",
            "root\n",
            " |-- Employee_Id: integer (nullable = true)\n",
            " |-- Employee_name: string (nullable = true)\n",
            " |-- department_id: integer (nullable = true)\n",
            "\n",
            "+-----------+-------------+-------------+\n",
            "|Employee_Id|Employee_name|department_id|\n",
            "+-----------+-------------+-------------+\n",
            "|          1|  Pallavi mam|          101|\n",
            "|          2|          Bob|          102|\n",
            "|          3|        Cathy|          101|\n",
            "|          4|        David|          103|\n",
            "|          5|    Amrit Sir|          104|\n",
            "|          6|        Alice|         null|\n",
            "|          7|          Eva|         null|\n",
            "|          8|        Frank|          110|\n",
            "|          9|        Grace|          109|\n",
            "|         10|        Henry|         null|\n",
            "+-----------+-------------+-------------+\n",
            "\n",
            "Department Dataframe\n",
            "root\n",
            " |-- department_id: integer (nullable = true)\n",
            " |-- department_name: string (nullable = true)\n",
            "\n",
            "+-------------+------------------------+\n",
            "|department_id|department_name         |\n",
            "+-------------+------------------------+\n",
            "|101          |Hr                      |\n",
            "|102          |Engineering             |\n",
            "|103          |Finance                 |\n",
            "|104          |Marketing               |\n",
            "|105          |Operation               |\n",
            "|106          |null                    |\n",
            "|107          |Operations              |\n",
            "|108          |Production              |\n",
            "|null         |Finance                 |\n",
            "|110          |Research and Development|\n",
            "+-------------+------------------------+\n",
            "\n"
          ]
        }
      ],
      "source": [
        "#Importing the data to create Schema & DataFrame\n",
        "\n",
        "employee_data = [(1,'Pallavi mam',101),\n",
        "                 (2,'Bob',102),\n",
        "                 (3,'Cathy',101),\n",
        "                 (4,'David',103),\n",
        "                 (5,'Amrit Sir',104),\n",
        "                 (6,'Alice',None),\n",
        "                 (7,'Eva',None),\n",
        "                 (8,'Frank',110),\n",
        "                 (9,'Grace',109),\n",
        "                 (10,'Henry',None)]\n",
        "\n",
        "Department_Data = [(101,'Hr'),\n",
        "                   (102,'Engineering'),\n",
        "                   (103,'Finance'),\n",
        "                   (104,'Marketing'),\n",
        "                   (105,'Operation'),\n",
        "                   (106,None),\n",
        "                   (107,'Operations'),\n",
        "                   (108,'Production'),\n",
        "                   (None,'Finance'),\n",
        "                   (110,'Research and Development')]\n",
        "\n",
        "employee_schema = StructType([\n",
        "    StructField(\"Employee_Id\",IntegerType(),True),\n",
        "    StructField(\"Employee_name\",StringType(),True),\n",
        "    StructField(\"department_id\",IntegerType(),True)\n",
        "])\n",
        "\n",
        "department_schema = StructType([\n",
        "    StructField(\"department_id\",IntegerType(),True),\n",
        "    StructField(\"department_name\",StringType(),True)\n",
        "])\n",
        "\n",
        "employee_df  = spark.createDataFrame(data=employee_data,schema=employee_schema)\n",
        "department_df = spark.createDataFrame(data=Department_Data, schema=department_schema)\n",
        "\n",
        "print(\"Employee Dataframe\")\n",
        "employee_df.printSchema()\n",
        "employee_df.show()\n",
        "\n",
        "print(\"Department Dataframe\")\n",
        "department_df.printSchema()\n",
        "department_df.show(truncate=False)"
      ]
    },
    {
      "cell_type": "markdown",
      "metadata": {
        "id": "K-AGTer7Srrp"
      },
      "source": [
        "### Join Expressions\n",
        "\n",
        "Question: How can you combine the employees_df and departments_df DataFrames based on the common \"department_id\" column to get a combined DataFrame with employee names and their respective department names?"
      ]
    },
    {
      "cell_type": "code",
      "execution_count": null,
      "metadata": {
        "id": "s8Hx7RRkSrrp",
        "outputId": "3a9af3d7-12a4-4d86-e116-8552c002c054"
      },
      "outputs": [
        {
          "name": "stdout",
          "output_type": "stream",
          "text": [
            "+-------------+-----------+-------------+--------------------+\n",
            "|department_id|employee_id|employee_name|     department_name|\n",
            "+-------------+-----------+-------------+--------------------+\n",
            "|          101|          1|  Pallavi mam|                  HR|\n",
            "|          101|          3|        Cathy|                  HR|\n",
            "|          102|          2|          Bob|         Engineering|\n",
            "|          103|          4|        David|             Finance|\n",
            "|          104|          5|    Amrit Sir|           Marketing|\n",
            "|          110|          8|        Frank|Research and Deve...|\n",
            "+-------------+-----------+-------------+--------------------+\n",
            "\n"
          ]
        }
      ],
      "source": [
        "#Expected_solution"
      ]
    },
    {
      "cell_type": "code",
      "execution_count": 12,
      "metadata": {},
      "outputs": [
        {
          "name": "stdout",
          "output_type": "stream",
          "text": [
            "+-------------+-----------+-------------+--------------------+\n",
            "|department_id|employee_id|employee_name|     department_name|\n",
            "+-------------+-----------+-------------+--------------------+\n",
            "|          101|          1|  Pallavi mam|                  Hr|\n",
            "|          101|          3|        Cathy|                  Hr|\n",
            "|          102|          2|          Bob|         Engineering|\n",
            "|          103|          4|        David|             Finance|\n",
            "|          104|          5|    Amrit Sir|           Marketing|\n",
            "|          110|          8|        Frank|Research and Deve...|\n",
            "+-------------+-----------+-------------+--------------------+\n",
            "\n"
          ]
        }
      ],
      "source": [
        "#My_solution\n",
        "\n",
        "#Combining the employees_df and departments_df DataFrames based on the common \"department_id\" column\n",
        "# to get a combined DataFrame with employee names and their respective department names\n",
        "\n",
        "joinExpression = department_df['department_id'] == employee_df['department_id']\n",
        "\n",
        "department_df.join(employee_df, joinExpression).select(department_df['department_id'],employee_df['employee_id'],employee_df['employee_name'],department_df['department_name']).show()"
      ]
    },
    {
      "cell_type": "markdown",
      "metadata": {
        "id": "Xy7PeX3oSrrp"
      },
      "source": [
        "### Inner Joins\n",
        "\n",
        "Question: How can you retrieve employee names and their respective department names for employees belonging to the \"Engineering\" department?"
      ]
    },
    {
      "cell_type": "code",
      "execution_count": null,
      "metadata": {
        "id": "rsmLDPaASrrp",
        "outputId": "16bb5415-ee7e-422f-8103-732066bc2f7b"
      },
      "outputs": [
        {
          "name": "stdout",
          "output_type": "stream",
          "text": [
            "+-------------+---------------+\n",
            "|employee_name|department_name|\n",
            "+-------------+---------------+\n",
            "|          Bob|    Engineering|\n",
            "+-------------+---------------+\n",
            "\n"
          ]
        }
      ],
      "source": [
        "#Expected_solution"
      ]
    },
    {
      "cell_type": "code",
      "execution_count": 13,
      "metadata": {},
      "outputs": [
        {
          "name": "stdout",
          "output_type": "stream",
          "text": [
            "+-------------+---------------+\n",
            "|employee_name|department_name|\n",
            "+-------------+---------------+\n",
            "|          Bob|    Engineering|\n",
            "+-------------+---------------+\n",
            "\n"
          ]
        }
      ],
      "source": [
        "#My_solution\n",
        "\n",
        "#retrieving employee names and their respective department names \n",
        "# for employees belonging to the \"Engineering\" department\n",
        "\n",
        "innerJoinExpression = department_df['department_id'] == employee_df['department_id']\n",
        "engineeringExpression = department_df['department_name'] == 'Engineering'\n",
        "\n",
        "department_df.join(employee_df, innerJoinExpression).select(employee_df['employee_name'], department_df['department_name']).where(engineeringExpression).show()\n"
      ]
    },
    {
      "cell_type": "markdown",
      "metadata": {
        "id": "-e3-Z98rSrrq"
      },
      "source": [
        "### Outer Joins\n",
        "\n",
        "Question: Retrieve a DataFrame that contains all employees along with their department names. If an employee doesn't have a department assigned, display \"No Department\"."
      ]
    },
    {
      "cell_type": "code",
      "execution_count": null,
      "metadata": {
        "id": "h7x9gxDsSrrq",
        "outputId": "80b4d9fe-de4a-4a6c-cb93-c1e6d6631b81"
      },
      "outputs": [
        {
          "name": "stdout",
          "output_type": "stream",
          "text": [
            "+-------------+--------------------+\n",
            "|employee_name|     department_name|\n",
            "+-------------+--------------------+\n",
            "|        Alice|       No Department|\n",
            "|          Eva|       No Department|\n",
            "|        Henry|       No Department|\n",
            "|No Department|             Finance|\n",
            "|  Pallavi mam|                  HR|\n",
            "|        Cathy|                  HR|\n",
            "|          Bob|         Engineering|\n",
            "|        David|             Finance|\n",
            "|    Amrit Sir|           Marketing|\n",
            "|No Department|          Operations|\n",
            "|No Department|       No Department|\n",
            "|No Department|          Operations|\n",
            "|No Department|          Production|\n",
            "|        Grace|       No Department|\n",
            "|        Frank|Research and Deve...|\n",
            "+-------------+--------------------+\n",
            "\n"
          ]
        }
      ],
      "source": [
        "#Expected_solution"
      ]
    },
    {
      "cell_type": "code",
      "execution_count": 14,
      "metadata": {},
      "outputs": [
        {
          "name": "stdout",
          "output_type": "stream",
          "text": [
            "+-------------+------------------------+\n",
            "|employee_name|department_name         |\n",
            "+-------------+------------------------+\n",
            "|No Department|Finance                 |\n",
            "|Alice        |No Department           |\n",
            "|Eva          |No Department           |\n",
            "|Henry        |No Department           |\n",
            "|Pallavi mam  |Hr                      |\n",
            "|Cathy        |Hr                      |\n",
            "|Bob          |Engineering             |\n",
            "|David        |Finance                 |\n",
            "|Amrit Sir    |Marketing               |\n",
            "|No Department|Operation               |\n",
            "|No Department|No Department           |\n",
            "|No Department|Operations              |\n",
            "|No Department|Production              |\n",
            "|Grace        |No Department           |\n",
            "|Frank        |Research and Development|\n",
            "+-------------+------------------------+\n",
            "\n"
          ]
        }
      ],
      "source": [
        "#My_solution\n",
        "\n",
        "joinType = 'outer'\n",
        "\n",
        "#Outer joined two dataframes which returned every value possible and null if any value is not present\n",
        "outer_joined_df = department_df.join(employee_df, joinExpression, joinType).select(employee_df['employee_name'],department_df['department_name'])\n",
        "\n",
        "#filled null with default value as No Department\n",
        "No_dept_filled = outer_joined_df.na.fill('No Department')\n",
        "No_dept_filled.show(truncate=False)"
      ]
    },
    {
      "cell_type": "markdown",
      "metadata": {
        "id": "lfHrBAwPSrrq"
      },
      "source": [
        "### Left Outer Joins\n",
        "\n",
        "Question: List all employees along with their department names. If an employee doesn't have a department assigned, display \"No Department\"."
      ]
    },
    {
      "cell_type": "code",
      "execution_count": null,
      "metadata": {
        "id": "IVuvSkFZSrrq",
        "outputId": "64e15ec7-43f6-4beb-f984-15e2a03147fe"
      },
      "outputs": [
        {
          "name": "stdout",
          "output_type": "stream",
          "text": [
            "+-------------+--------------------+\n",
            "|employee_name|     department_name|\n",
            "+-------------+--------------------+\n",
            "|  Pallavi mam|                  HR|\n",
            "|          Bob|         Engineering|\n",
            "|        Cathy|                  HR|\n",
            "|        David|             Finance|\n",
            "|    Amrit Sir|           Marketing|\n",
            "|        Alice|       No Department|\n",
            "|          Eva|       No Department|\n",
            "|        Frank|Research and Deve...|\n",
            "|        Grace|       No Department|\n",
            "|        Henry|       No Department|\n",
            "+-------------+--------------------+\n",
            "\n"
          ]
        }
      ],
      "source": [
        "#Expected_solution"
      ]
    },
    {
      "cell_type": "code",
      "execution_count": 19,
      "metadata": {},
      "outputs": [
        {
          "name": "stdout",
          "output_type": "stream",
          "text": [
            "+-------------+--------------------+\n",
            "|employee_name|     department_name|\n",
            "+-------------+--------------------+\n",
            "|  Pallavi mam|                  Hr|\n",
            "|          Bob|         Engineering|\n",
            "|        Cathy|                  Hr|\n",
            "|        David|             Finance|\n",
            "|    Amrit Sir|           Marketing|\n",
            "|        Alice|       no Department|\n",
            "|          Eva|       no Department|\n",
            "|        Frank|Research and Deve...|\n",
            "|        Henry|       no Department|\n",
            "|        Grace|       no Department|\n",
            "+-------------+--------------------+\n",
            "\n"
          ]
        }
      ],
      "source": [
        "#My_solution\n",
        "\n",
        "joinType = 'left_outer'\n",
        "employee_df.join(department_df,joinExpression,joinType).select(employee_df['employee_name'],department_df['department_name']).na.fill('no Department').show()"
      ]
    },
    {
      "cell_type": "markdown",
      "metadata": {
        "id": "Qie43J-ESrrr"
      },
      "source": [
        "### Right Outer Joins\n",
        "\n",
        "Question: Display a list of departments along with employee names. If a department has no employees, display \"No Employees\".\n",
        "\n"
      ]
    },
    {
      "cell_type": "code",
      "execution_count": 26,
      "metadata": {},
      "outputs": [
        {
          "name": "stdout",
          "output_type": "stream",
          "text": [
            "+--------------------+-------------+\n",
            "|     department_name|employee_name|\n",
            "+--------------------+-------------+\n",
            "|                  Hr|        Cathy|\n",
            "|                  Hr|  Pallavi mam|\n",
            "|         Engineering|          Bob|\n",
            "|             Finance|        David|\n",
            "|           Operation|  No Employee|\n",
            "|           Marketing|    Amrit Sir|\n",
            "|                null|  No Employee|\n",
            "|          Operations|  No Employee|\n",
            "|          Production|  No Employee|\n",
            "|             Finance|  No Employee|\n",
            "|Research and Deve...|        Frank|\n",
            "+--------------------+-------------+\n",
            "\n"
          ]
        }
      ],
      "source": [
        "#My_solution\n",
        "\n",
        "\"\"\"\n",
        "    I guess there is problem in the given expected output.\n",
        "    The expected output also gives the null value in the department column as \"No Employee\", but i guess No employee should only be given\n",
        "    in employee column so did so.\n",
        "\n",
        "    for the result to be as given in assignment we can remove subset=[] from fill()\n",
        "\"\"\"\n",
        "\n",
        "joinType = 'right_outer'\n",
        "\n",
        "employee_df.join(department_df,joinExpression,joinType).select(department_df['department_name'],employee_df['employee_name']).na.fill('No Employee', subset=['employee_name']).show()"
      ]
    },
    {
      "cell_type": "markdown",
      "metadata": {
        "id": "DZ3hFQ1ZSrrr"
      },
      "source": [
        "### Left Semi Joins\n",
        "\n",
        "Question: Retrieve a DataFrame that includes employee names for departments that have employees.\n",
        "\n"
      ]
    },
    {
      "cell_type": "code",
      "execution_count": null,
      "metadata": {
        "id": "ZG4gNRqPSrrs",
        "outputId": "d72aeb8b-1e13-4e1a-82da-463f83964799"
      },
      "outputs": [
        {
          "name": "stdout",
          "output_type": "stream",
          "text": [
            "+-------------+\n",
            "|employee_name|\n",
            "+-------------+\n",
            "|  Pallavi mam|\n",
            "|        Cathy|\n",
            "|          Bob|\n",
            "|        David|\n",
            "|    Amrit Sir|\n",
            "|        Frank|\n",
            "+-------------+\n",
            "\n"
          ]
        }
      ],
      "source": [
        "#Expected_solution"
      ]
    },
    {
      "cell_type": "code",
      "execution_count": 27,
      "metadata": {},
      "outputs": [
        {
          "name": "stdout",
          "output_type": "stream",
          "text": [
            "+-------------+\n",
            "|employee_name|\n",
            "+-------------+\n",
            "|  Pallavi mam|\n",
            "|        Cathy|\n",
            "|          Bob|\n",
            "|        David|\n",
            "|    Amrit Sir|\n",
            "|        Frank|\n",
            "+-------------+\n",
            "\n"
          ]
        }
      ],
      "source": [
        "#My_solution\n",
        "\n",
        "joinType = 'left_semi'\n",
        "\n",
        "employee_df.join(department_df,joinExpression,joinType).select(employee_df['employee_name']).show()"
      ]
    },
    {
      "cell_type": "markdown",
      "metadata": {
        "id": "jstEtkSSSrrs"
      },
      "source": [
        "### Left Anti Joins\n",
        "\n",
        "Question: Find the employees who don't belong to any department."
      ]
    },
    {
      "cell_type": "code",
      "execution_count": null,
      "metadata": {
        "id": "yUwiRb33Srrs",
        "outputId": "06e5a481-ddd4-4c57-8688-1e83b7570d77"
      },
      "outputs": [
        {
          "name": "stdout",
          "output_type": "stream",
          "text": [
            "+-------------+\n",
            "|employee_name|\n",
            "+-------------+\n",
            "|        Alice|\n",
            "|          Eva|\n",
            "|        Grace|\n",
            "|        Henry|\n",
            "+-------------+\n",
            "\n"
          ]
        }
      ],
      "source": [
        "#Expected_solution"
      ]
    },
    {
      "cell_type": "code",
      "execution_count": 28,
      "metadata": {},
      "outputs": [
        {
          "name": "stdout",
          "output_type": "stream",
          "text": [
            "+-------------+\n",
            "|employee_name|\n",
            "+-------------+\n",
            "|        Alice|\n",
            "|          Eva|\n",
            "|        Henry|\n",
            "|        Grace|\n",
            "+-------------+\n",
            "\n"
          ]
        }
      ],
      "source": [
        "#My_solution\n",
        "\n",
        "joinType = 'left_anti'\n",
        "\n",
        "employee_df.join(department_df,joinExpression,joinType).select(employee_df['employee_name']).show()\n"
      ]
    },
    {
      "cell_type": "markdown",
      "metadata": {
        "id": "8_4r9Qw4Srrs"
      },
      "source": [
        "### Cross (Cartesian) Joins\n",
        "\n",
        "Question: Create a DataFrame that contains all possible combinations of employees and departments."
      ]
    },
    {
      "cell_type": "code",
      "execution_count": null,
      "metadata": {
        "id": "RCNCE2iESrrs",
        "outputId": "24f2b58b-da7d-4048-c76c-cd2b0eaeb3eb"
      },
      "outputs": [
        {
          "name": "stdout",
          "output_type": "stream",
          "text": [
            "+-----------+-------------+-------------+-------------+--------------------+\n",
            "|employee_id|employee_name|department_id|department_id|     department_name|\n",
            "+-----------+-------------+-------------+-------------+--------------------+\n",
            "|          1|  Pallavi mam|          101|          101|                  HR|\n",
            "|          1|  Pallavi mam|          101|          102|         Engineering|\n",
            "|          1|  Pallavi mam|          101|          103|             Finance|\n",
            "|          1|  Pallavi mam|          101|          104|           Marketing|\n",
            "|          1|  Pallavi mam|          101|          105|          Operations|\n",
            "|          1|  Pallavi mam|          101|          106|                null|\n",
            "|          1|  Pallavi mam|          101|          107|          Operations|\n",
            "|          1|  Pallavi mam|          101|          108|          Production|\n",
            "|          1|  Pallavi mam|          101|         null|             Finance|\n",
            "|          1|  Pallavi mam|          101|          110|Research and Deve...|\n",
            "|          2|          Bob|          102|          101|                  HR|\n",
            "|          2|          Bob|          102|          102|         Engineering|\n",
            "|          2|          Bob|          102|          103|             Finance|\n",
            "|          2|          Bob|          102|          104|           Marketing|\n",
            "|          2|          Bob|          102|          105|          Operations|\n",
            "|          2|          Bob|          102|          106|                null|\n",
            "|          2|          Bob|          102|          107|          Operations|\n",
            "|          2|          Bob|          102|          108|          Production|\n",
            "|          2|          Bob|          102|         null|             Finance|\n",
            "|          2|          Bob|          102|          110|Research and Deve...|\n",
            "+-----------+-------------+-------------+-------------+--------------------+\n",
            "only showing top 20 rows\n",
            "\n"
          ]
        },
        {
          "name": "stderr",
          "output_type": "stream",
          "text": [
            "                                                                                \r"
          ]
        }
      ],
      "source": [
        "#Expected_solution"
      ]
    },
    {
      "cell_type": "code",
      "execution_count": 29,
      "metadata": {},
      "outputs": [
        {
          "name": "stdout",
          "output_type": "stream",
          "text": [
            "+-----------+-------------+-------------+-------------+--------------------+\n",
            "|Employee_Id|Employee_name|department_id|department_id|     department_name|\n",
            "+-----------+-------------+-------------+-------------+--------------------+\n",
            "|          1|  Pallavi mam|          101|          101|                  Hr|\n",
            "|          1|  Pallavi mam|          101|          102|         Engineering|\n",
            "|          1|  Pallavi mam|          101|          103|             Finance|\n",
            "|          1|  Pallavi mam|          101|          104|           Marketing|\n",
            "|          1|  Pallavi mam|          101|          105|           Operation|\n",
            "|          1|  Pallavi mam|          101|          106|                null|\n",
            "|          1|  Pallavi mam|          101|          107|          Operations|\n",
            "|          1|  Pallavi mam|          101|          108|          Production|\n",
            "|          1|  Pallavi mam|          101|         null|             Finance|\n",
            "|          1|  Pallavi mam|          101|          110|Research and Deve...|\n",
            "|          2|          Bob|          102|          101|                  Hr|\n",
            "|          2|          Bob|          102|          102|         Engineering|\n",
            "|          2|          Bob|          102|          103|             Finance|\n",
            "|          2|          Bob|          102|          104|           Marketing|\n",
            "|          2|          Bob|          102|          105|           Operation|\n",
            "|          2|          Bob|          102|          106|                null|\n",
            "|          2|          Bob|          102|          107|          Operations|\n",
            "|          2|          Bob|          102|          108|          Production|\n",
            "|          2|          Bob|          102|         null|             Finance|\n",
            "|          2|          Bob|          102|          110|Research and Deve...|\n",
            "+-----------+-------------+-------------+-------------+--------------------+\n",
            "only showing top 20 rows\n",
            "\n"
          ]
        },
        {
          "name": "stderr",
          "output_type": "stream",
          "text": [
            "                                                                                \r"
          ]
        }
      ],
      "source": [
        "#My_solution\n",
        "\n",
        "joinType = 'cross'\n",
        "employee_df.crossJoin(department_df).show()"
      ]
    },
    {
      "cell_type": "code",
      "execution_count": null,
      "metadata": {
        "id": "OGKNWgSmSrrt"
      },
      "outputs": [],
      "source": [
        "#Expected_solution"
      ]
    }
  ],
  "metadata": {
    "colab": {
      "provenance": []
    },
    "kernelspec": {
      "display_name": "Python 3",
      "language": "python",
      "name": "python3"
    },
    "language_info": {
      "codemirror_mode": {
        "name": "ipython",
        "version": 3
      },
      "file_extension": ".py",
      "mimetype": "text/x-python",
      "name": "python",
      "nbconvert_exporter": "python",
      "pygments_lexer": "ipython3",
      "version": "3.11.5"
    },
    "orig_nbformat": 4,
    "vscode": {
      "interpreter": {
        "hash": "b0fa6594d8f4cbf19f97940f81e996739fb7646882a419484c72d19e05852a7e"
      }
    }
  },
  "nbformat": 4,
  "nbformat_minor": 0
}
