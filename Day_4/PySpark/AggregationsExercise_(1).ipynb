{
  "cells": [
    {
      "cell_type": "markdown",
      "metadata": {
        "id": "RMQrj4vXR06q"
      },
      "source": [
        "##  Aggregations\n"
      ]
    },
    {
      "cell_type": "markdown",
      "metadata": {
        "id": "VsVR0Yc3R06t"
      },
      "source": [
        "### Step 1: Initialize PySpark Session\n"
      ]
    },
    {
      "cell_type": "code",
      "execution_count": 1,
      "metadata": {
        "id": "bg_8gsjJR06u"
      },
      "outputs": [
        {
          "name": "stderr",
          "output_type": "stream",
          "text": [
            "23/09/04 00:14:01 WARN Utils: Your hostname, anujs-MacBook-Air.local resolves to a loopback address: 127.0.0.1; using 192.168.1.67 instead (on interface en0)\n",
            "23/09/04 00:14:01 WARN Utils: Set SPARK_LOCAL_IP if you need to bind to another address\n",
            "Setting default log level to \"WARN\".\n",
            "To adjust logging level use sc.setLogLevel(newLevel). For SparkR, use setLogLevel(newLevel).\n",
            "23/09/04 00:14:01 WARN NativeCodeLoader: Unable to load native-hadoop library for your platform... using builtin-java classes where applicable\n"
          ]
        },
        {
          "name": "stderr",
          "output_type": "stream",
          "text": [
            "23/09/04 00:14:14 WARN GarbageCollectionMetrics: To enable non-built-in garbage collector(s) List(G1 Concurrent GC), users should configure it(them) to spark.eventLog.gcMetrics.youngGenerationGarbageCollectors or spark.eventLog.gcMetrics.oldGenerationGarbageCollectors\n"
          ]
        }
      ],
      "source": [
        "from pyspark.sql import SparkSession\n",
        "\n",
        "# Create a Spark session\n",
        "spark = SparkSession.builder.appName(\"day3\").getOrCreate()\n"
      ]
    },
    {
      "cell_type": "markdown",
      "metadata": {
        "id": "kND4-qpyR06v"
      },
      "source": [
        "### Step 2: Load the Dataset\n"
      ]
    },
    {
      "cell_type": "code",
      "execution_count": 2,
      "metadata": {
        "id": "FzjMcMuNR06v"
      },
      "outputs": [],
      "source": [
        "# Load the Chipotle dataset into a Spark DataFrame\n",
        "data_path = \"/Users/anujkhadka/Fusemachines47/ALL SPARK/Assignments/Day_4/US_Crime_Rates_1960_2014 (1).csv\"  \n",
        "US_Crime_Rates_1960_2014_df = spark.read.csv(data_path, header=True, inferSchema=True)\n",
        "\n",
        "# Load the Chipotle dataset into a Spark DataFrame\n",
        "data_path = \"/Users/anujkhadka/Fusemachines47/ALL SPARK/Assignments/Day_4/titanic.csv\"  \n",
        "titanic_df = spark.read.csv(data_path, header=True, inferSchema=True)\n"
      ]
    },
    {
      "cell_type": "code",
      "execution_count": 3,
      "metadata": {
        "id": "pIThi_PtR06v",
        "outputId": "3865ae0b-2eac-41c4-f244-7d539e5dca87"
      },
      "outputs": [
        {
          "name": "stdout",
          "output_type": "stream",
          "text": [
            "root\n",
            " |-- Year: integer (nullable = true)\n",
            " |-- Population: integer (nullable = true)\n",
            " |-- Total: integer (nullable = true)\n",
            " |-- Violent: integer (nullable = true)\n",
            " |-- Property: integer (nullable = true)\n",
            " |-- Murder: integer (nullable = true)\n",
            " |-- Forcible_Rape: integer (nullable = true)\n",
            " |-- Robbery: integer (nullable = true)\n",
            " |-- Aggravated_assault: integer (nullable = true)\n",
            " |-- Burglary: integer (nullable = true)\n",
            " |-- Larceny_Theft: integer (nullable = true)\n",
            " |-- Vehicle_Theft: integer (nullable = true)\n",
            "\n"
          ]
        }
      ],
      "source": [
        "#Displaying the Schema\n",
        "\n",
        "US_Crime_Rates_1960_2014_df.printSchema()"
      ]
    },
    {
      "cell_type": "code",
      "execution_count": 5,
      "metadata": {
        "id": "ld8nL-ksR06w",
        "outputId": "f1e01ddc-913d-4244-f770-ce0a059ef092"
      },
      "outputs": [
        {
          "name": "stdout",
          "output_type": "stream",
          "text": [
            "+----+----------+--------+-------+--------+------+-------------+-------+------------------+--------+-------------+-------------+\n",
            "|Year|Population|Total   |Violent|Property|Murder|Forcible_Rape|Robbery|Aggravated_assault|Burglary|Larceny_Theft|Vehicle_Theft|\n",
            "+----+----------+--------+-------+--------+------+-------------+-------+------------------+--------+-------------+-------------+\n",
            "|1960|179323175 |3384200 |288460 |3095700 |9110  |17190        |107840 |154320            |912100  |1855400      |328200       |\n",
            "|1961|182992000 |3488000 |289390 |3198600 |8740  |17220        |106670 |156760            |949600  |1913000      |336000       |\n",
            "|1962|185771000 |3752200 |301510 |3450700 |8530  |17550        |110860 |164570            |994300  |2089600      |366800       |\n",
            "|1963|188483000 |4109500 |316970 |3792500 |8640  |17650        |116470 |174210            |1086400 |2297800      |408300       |\n",
            "|1964|191141000 |4564600 |364220 |4200400 |9360  |21420        |130390 |203050            |1213200 |2514400      |472800       |\n",
            "|1965|193526000 |4739400 |387390 |4352000 |9960  |23410        |138690 |215330            |1282500 |2572600      |496900       |\n",
            "|1966|195576000 |5223500 |430180 |4793300 |11040 |25820        |157990 |235330            |1410100 |2822000      |561200       |\n",
            "|1967|197457000 |5903400 |499930 |5403500 |12240 |27620        |202910 |257160            |1632100 |3111600      |659800       |\n",
            "|1968|199399000 |6720200 |595010 |6125200 |13800 |31670        |262840 |286700            |1858900 |3482700      |783600       |\n",
            "|1969|201385000 |7410900 |661870 |6749000 |14760 |37170        |298850 |311090            |1981900 |3888600      |878500       |\n",
            "|1970|203235298 |8098000 |738820 |7359200 |16000 |37990        |349860 |334970            |2205000 |4225800      |928400       |\n",
            "|1971|206212000 |8588200 |816500 |7771700 |17780 |42260        |387700 |368760            |2399300 |4424200      |948200       |\n",
            "|1972|208230000 |8248800 |834900 |7413900 |18670 |46850        |376290 |393090            |2375500 |4151200      |887200       |\n",
            "|1973|209851000 |8718100 |875910 |7842200 |19640 |51400        |384220 |420650            |2565500 |4347900      |928800       |\n",
            "|1974|211392000 |10253400|974720 |9278700 |20710 |55400        |442400 |456210            |3039200 |5262500      |977100       |\n",
            "|1975|213124000 |11292400|1039710|10252700|20510 |56090        |470500 |492620            |3265300 |5977700      |1009600      |\n",
            "|1976|214659000 |11349700|1004210|10345500|18780 |57080        |427810 |500530            |3108700 |6270800      |966000       |\n",
            "|1977|216332000 |10984500|1029580|9955000 |19120 |63500        |412610 |534350            |3071500 |5905700      |977700       |\n",
            "|1978|218059000 |11209000|1085550|10123400|19560 |67610        |426930 |571460            |3128300 |5991000      |1004100      |\n",
            "|1979|220099000 |12249500|1208030|11041500|21460 |76390        |480700 |629480            |3327700 |6601000      |1112800      |\n",
            "+----+----------+--------+-------+--------+------+-------------+-------+------------------+--------+-------------+-------------+\n",
            "only showing top 20 rows\n",
            "\n"
          ]
        }
      ],
      "source": [
        "#Showing the DataFrame using \"show\" action\n",
        "\n",
        "US_Crime_Rates_1960_2014_df.show(truncate=False)"
      ]
    },
    {
      "cell_type": "markdown",
      "metadata": {
        "id": "XYzOWTHIR06x"
      },
      "source": [
        "### count\n",
        "\n",
        "Question: How many records are there in the US_Crime_Rates_1960_2014_df DataFrame?"
      ]
    },
    {
      "cell_type": "code",
      "execution_count": null,
      "metadata": {
        "id": "yuVMvvz1R06x",
        "outputId": "ddb769ef-9b28-4536-939c-7c2c0f185a47"
      },
      "outputs": [
        {
          "name": "stdout",
          "output_type": "stream",
          "text": [
            "Total number of records: 55\n"
          ]
        }
      ],
      "source": [
        "#Expected_solution"
      ]
    },
    {
      "cell_type": "code",
      "execution_count": 6,
      "metadata": {},
      "outputs": [
        {
          "name": "stdout",
          "output_type": "stream",
          "text": [
            "Total number of records: 55\n"
          ]
        }
      ],
      "source": [
        "#My_solution\n",
        "\n",
        "# counting the records in US crime dataframe\n",
        "\n",
        "print(f\"Total number of records: {US_Crime_Rates_1960_2014_df.count()}\")"
      ]
    },
    {
      "cell_type": "markdown",
      "metadata": {
        "id": "Y9Ko3gBbR06x"
      },
      "source": [
        "### countDistinct\n",
        "Question: How many distinct years are present in the US_Crime_Rates_1960_2014_df DataFrame?\n",
        "Answer:"
      ]
    },
    {
      "cell_type": "code",
      "execution_count": null,
      "metadata": {
        "id": "8sem3GrYR06x",
        "outputId": "94bd2267-6d7a-4747-8327-2e8c4db8468a"
      },
      "outputs": [
        {
          "name": "stdout",
          "output_type": "stream",
          "text": [
            "Number of distinct years: 55\n"
          ]
        }
      ],
      "source": [
        "#Expected_solution"
      ]
    },
    {
      "cell_type": "code",
      "execution_count": 7,
      "metadata": {},
      "outputs": [
        {
          "name": "stdout",
          "output_type": "stream",
          "text": [
            "Number of distinct year is: 55\n"
          ]
        }
      ],
      "source": [
        "#My_solution\n",
        "\n",
        "#Importing the library for SWL Function \"countDistinct\"\n",
        "from pyspark.sql.functions import countDistinct\n",
        "\n",
        "#Calculating distinct years  present in the US_Crime_Rates_1960_2014_df DataFrame\n",
        "year_count = US_Crime_Rates_1960_2014_df.select(countDistinct('year'))  \n",
        "\n",
        "#Displaying the results of distinct years  present in the US_Crime_Rates_1960_2014_df DataFrame\n",
        "print(f\"Number of distinct year is: {year_count.collect()[0][0]}\")  "
      ]
    },
    {
      "cell_type": "markdown",
      "metadata": {
        "id": "FJwAEUQdR06x"
      },
      "source": [
        "### approx_count_distinct\n",
        "\n",
        "Question: Estimate the approximate number of distinct values in the \"Total\" column of the US_Crime_Rates_1960_2014_df DataFrame."
      ]
    },
    {
      "cell_type": "code",
      "execution_count": null,
      "metadata": {
        "id": "4OXWJi5WR06y",
        "outputId": "408c5329-10d0-4d04-a98e-d53852b1f4cf"
      },
      "outputs": [
        {
          "name": "stderr",
          "output_type": "stream",
          "text": [
            "23/08/22 10:34:44 WARN package: Truncated the string representation of a plan since it was too large. This behavior can be adjusted by setting 'spark.sql.debug.maxToStringFields'.\n"
          ]
        },
        {
          "name": "stdout",
          "output_type": "stream",
          "text": [
            "Approximate distinct values in 'Total' column: 55\n"
          ]
        }
      ],
      "source": [
        "#Expected_solution"
      ]
    },
    {
      "cell_type": "code",
      "execution_count": 8,
      "metadata": {},
      "outputs": [
        {
          "name": "stderr",
          "output_type": "stream",
          "text": [
            "23/09/04 00:25:49 WARN package: Truncated the string representation of a plan since it was too large. This behavior can be adjusted by setting 'spark.sql.debug.maxToStringFields'.\n"
          ]
        },
        {
          "name": "stdout",
          "output_type": "stream",
          "text": [
            "Number of approx distinct count of total is: 55\n"
          ]
        }
      ],
      "source": [
        "#My_solution\n",
        "\n",
        "#Importing the library for SQL Function \"approx_count_distinct\"\n",
        "from pyspark.sql.functions import approx_count_distinct\n",
        "\n",
        "#Creating a new column with approximate count of distinct values in each row using function \"approx_count_distinct\".\n",
        "total_count = US_Crime_Rates_1960_2014_df.select(approx_count_distinct('total'))  \n",
        "\n",
        "# total_count.show()\n",
        "print(f\"Number of approx distinct count of total is: {total_count.collect()[0][0]}\")  "
      ]
    },
    {
      "cell_type": "markdown",
      "metadata": {
        "id": "2O0FuDMtR06y"
      },
      "source": [
        "###  first and last\n",
        "\n",
        "Question: Find the first and last year in the US_Crime_Rates_1960_2014_df DataFrame."
      ]
    },
    {
      "cell_type": "code",
      "execution_count": null,
      "metadata": {
        "id": "lFssaNCMR06y",
        "outputId": "fca8f1a1-b7e4-4a58-d0d4-f3317fec155a"
      },
      "outputs": [
        {
          "name": "stdout",
          "output_type": "stream",
          "text": [
            "First year: 1960\n",
            "Last year: 2014\n"
          ]
        }
      ],
      "source": [
        "#Expected_solution"
      ]
    },
    {
      "cell_type": "code",
      "execution_count": 9,
      "metadata": {},
      "outputs": [
        {
          "name": "stdout",
          "output_type": "stream",
          "text": [
            "+-----------+----------+\n",
            "|first(year)|last(year)|\n",
            "+-----------+----------+\n",
            "|       1960|      2014|\n",
            "+-----------+----------+\n",
            "\n",
            "First Year: 1960\n",
            "Last Year: 2014\n"
          ]
        }
      ],
      "source": [
        "#My_solution\n",
        "\n",
        "#Importing library for sql function \"first & last\"\n",
        "from pyspark.sql.functions import first,last\n",
        "\n",
        "#Calculating first and last year in the US_Crime_Rates_1960_2014_df DataFrame.\n",
        "first_last = US_Crime_Rates_1960_2014_df.select(first('year'),last('year'))\n",
        "first_last.show()\n",
        "\n",
        "\n",
        "#Result for first and last year in the US_Crime_Rates_1960_2014_df DataFrame.\n",
        "print(f\"First Year: {first_last.collect()[0][0]}\")\n",
        "print(f\"Last Year: {first_last.collect()[0][1]}\")"
      ]
    },
    {
      "cell_type": "markdown",
      "metadata": {
        "id": "mZ5NPDQWR06y"
      },
      "source": [
        "### min and max\n",
        "\n",
        "Question: Find the minimum and maximum population values in the US_Crime_Rates_1960_2014_df DataFrame."
      ]
    },
    {
      "cell_type": "code",
      "execution_count": null,
      "metadata": {
        "id": "-eWskAvVR06y",
        "outputId": "1da2e73d-455a-4778-8649-d7e0d244997a"
      },
      "outputs": [
        {
          "name": "stdout",
          "output_type": "stream",
          "text": [
            "Minimum population: 179323175\n",
            "Maximum population: 318857056\n"
          ]
        }
      ],
      "source": [
        "#Expected_solution"
      ]
    },
    {
      "cell_type": "code",
      "execution_count": 10,
      "metadata": {},
      "outputs": [
        {
          "name": "stdout",
          "output_type": "stream",
          "text": [
            "+---------------+---------------+\n",
            "|max(population)|min(population)|\n",
            "+---------------+---------------+\n",
            "|      318857056|      179323175|\n",
            "+---------------+---------------+\n",
            "\n",
            "Minimum population: 179323175 \n",
            "Maximum Population: 318857056\n"
          ]
        }
      ],
      "source": [
        "#My_solution\n",
        "\n",
        "#Importing the library for SQL Function \"max & min\"\n",
        "from pyspark.sql.functions import max,min\n",
        "\n",
        "#Calculating the minimum and maximum population values in the US_Crime_Rates_1960_2014_df DataFrame.\n",
        "max_min = US_Crime_Rates_1960_2014_df.select(max('population'),min('population'))\n",
        "max_min.show()\n",
        "new_line = '\\n'\n",
        "\n",
        "# To get the result as expected in the assignment\n",
        "print(f\"Minimum population: {max_min.collect()[0][1]} {new_line}Maximum Population: {max_min.collect()[0][0]}\")\n"
      ]
    },
    {
      "cell_type": "markdown",
      "metadata": {
        "id": "KxNevsd7R06z"
      },
      "source": [
        "### sumDistinct\n",
        "\n",
        "Question: Calculate the sum of distinct \"Property\" values for each year in the US_Crime_Rates_1960_2014_df DataFrame."
      ]
    },
    {
      "cell_type": "code",
      "execution_count": 11,
      "metadata": {
        "id": "KMKuuFG3R06z",
        "outputId": "92e8255d-cdb0-477b-a7ef-1645f2945093"
      },
      "outputs": [
        {
          "name": "stderr",
          "output_type": "stream",
          "text": [
            "/opt/homebrew/lib/python3.11/site-packages/pyspark/sql/functions.py:752: FutureWarning: Deprecated in 3.2, use sum_distinct instead.\n",
            "  warnings.warn(\"Deprecated in 3.2, use sum_distinct instead.\", FutureWarning)\n"
          ]
        },
        {
          "name": "stdout",
          "output_type": "stream",
          "text": [
            "+----+-------------------+\n",
            "|Year|SumDistinctProperty|\n",
            "+----+-------------------+\n",
            "|1960|            3095700|\n",
            "|1961|            3198600|\n",
            "|1962|            3450700|\n",
            "|1963|            3792500|\n",
            "|1964|            4200400|\n",
            "|1965|            4352000|\n",
            "|1966|            4793300|\n",
            "|1967|            5403500|\n",
            "|1968|            6125200|\n",
            "|1969|            6749000|\n",
            "|1970|            7359200|\n",
            "|1971|            7771700|\n",
            "|1972|            7413900|\n",
            "|1973|            7842200|\n",
            "|1974|            9278700|\n",
            "|1975|           10252700|\n",
            "|1976|           10345500|\n",
            "|1977|            9955000|\n",
            "|1978|           10123400|\n",
            "|1979|           11041500|\n",
            "+----+-------------------+\n",
            "only showing top 20 rows\n",
            "\n"
          ]
        }
      ],
      "source": [
        "#Expected_solution"
      ]
    },
    {
      "cell_type": "code",
      "execution_count": 12,
      "metadata": {},
      "outputs": [
        {
          "name": "stdout",
          "output_type": "stream",
          "text": [
            "+----+-------------------+\n",
            "|Year|SumDistinctProperty|\n",
            "+----+-------------------+\n",
            "|1960|            3095700|\n",
            "|1961|            3198600|\n",
            "|1962|            3450700|\n",
            "|1963|            3792500|\n",
            "|1964|            4200400|\n",
            "|1965|            4352000|\n",
            "|1966|            4793300|\n",
            "|1967|            5403500|\n",
            "|1968|            6125200|\n",
            "|1969|            6749000|\n",
            "|1970|            7359200|\n",
            "|1971|            7771700|\n",
            "|1972|            7413900|\n",
            "|1973|            7842200|\n",
            "|1974|            9278700|\n",
            "|1975|           10252700|\n",
            "|1976|           10345500|\n",
            "|1977|            9955000|\n",
            "|1978|           10123400|\n",
            "|1979|           11041500|\n",
            "+----+-------------------+\n",
            "only showing top 20 rows\n",
            "\n"
          ]
        }
      ],
      "source": [
        "#My_solution\n",
        "\n",
        "#Importing the library\n",
        "from pyspark.sql.functions import sumDistinct,col\n",
        "\n",
        "#Calculating the sum of distinct \"Property\" values\n",
        "# for each year in the US_Crime_Rates_1960_2014_df DataFrame.\n",
        "\n",
        "sum_distinct_property_by_year = US_Crime_Rates_1960_2014_df.groupBy(\"Year\").agg(sumDistinct(\"Property\").alias(\"SumDistinctProperty\")).orderBy(col('year'))\n",
        "sum_distinct_property_by_year.show()"
      ]
    },
    {
      "cell_type": "markdown",
      "metadata": {
        "id": "xtEDa-feR06z"
      },
      "source": [
        "### avg\n",
        "\n",
        "Question: Calculate the average \"Murder\" rate for the entire dataset in the US_Crime_Rates_1960_2014_df DataFrame.\n",
        "Answer:"
      ]
    },
    {
      "cell_type": "code",
      "execution_count": null,
      "metadata": {
        "id": "nLw3WR0iR06z",
        "outputId": "6d33fbc7-a09b-42d2-a87a-d571256308a8"
      },
      "outputs": [
        {
          "name": "stdout",
          "output_type": "stream",
          "text": [
            "Average murder rate: 17317.236363636363\n"
          ]
        }
      ],
      "source": [
        "#Expected_solution"
      ]
    },
    {
      "cell_type": "code",
      "execution_count": 13,
      "metadata": {},
      "outputs": [
        {
          "name": "stdout",
          "output_type": "stream",
          "text": [
            "+------------------+\n",
            "|       avg(murder)|\n",
            "+------------------+\n",
            "|17317.236363636363|\n",
            "+------------------+\n",
            "\n",
            "The average murder rate in USA is: 17317.236363636363\n"
          ]
        }
      ],
      "source": [
        "#My_solution\n",
        "\n",
        "#Importing the library\n",
        "from pyspark.sql.functions import avg\n",
        "\n",
        "#Calculating the average \"Murder\" rate for the entire dataset in the US_Crime_Rates_1960_2014_df \n",
        "average_murder = US_Crime_Rates_1960_2014_df.select(avg('murder'))\n",
        "average_murder.show()\n",
        "\n",
        "print(f\"The average murder rate in USA is: {average_murder.collect()[0][0]}\")"
      ]
    },
    {
      "cell_type": "markdown",
      "metadata": {
        "id": "ifPC-B9RR06z"
      },
      "source": [
        "### Aggregating to Complex Types\n",
        "\n",
        "Question: Calculate the total sum of \"Violent\" and \"Property\" crimes for each year in the US_Crime_Rates_1960_2014_df DataFrame. Store the results in a struct type column."
      ]
    },
    {
      "cell_type": "code",
      "execution_count": 14,
      "metadata": {
        "id": "NZ2njJAiR06z",
        "outputId": "7b47576c-4e0e-42d1-ef10-d0c3fa1d3461"
      },
      "outputs": [
        {
          "name": "stdout",
          "output_type": "stream",
          "text": [
            "+----+------------------+-------------------+-------------------+\n",
            "|Year|TotalViolentCrimes|TotalPropertyCrimes|        TotalCrimes|\n",
            "+----+------------------+-------------------+-------------------+\n",
            "|1960|            288460|            3095700|  {288460, 3095700}|\n",
            "|1961|            289390|            3198600|  {289390, 3198600}|\n",
            "|1962|            301510|            3450700|  {301510, 3450700}|\n",
            "|1963|            316970|            3792500|  {316970, 3792500}|\n",
            "|1964|            364220|            4200400|  {364220, 4200400}|\n",
            "|1965|            387390|            4352000|  {387390, 4352000}|\n",
            "|1966|            430180|            4793300|  {430180, 4793300}|\n",
            "|1967|            499930|            5403500|  {499930, 5403500}|\n",
            "|1968|            595010|            6125200|  {595010, 6125200}|\n",
            "|1969|            661870|            6749000|  {661870, 6749000}|\n",
            "|1970|            738820|            7359200|  {738820, 7359200}|\n",
            "|1971|            816500|            7771700|  {816500, 7771700}|\n",
            "|1972|            834900|            7413900|  {834900, 7413900}|\n",
            "|1973|            875910|            7842200|  {875910, 7842200}|\n",
            "|1974|            974720|            9278700|  {974720, 9278700}|\n",
            "|1975|           1039710|           10252700|{1039710, 10252700}|\n",
            "|1976|           1004210|           10345500|{1004210, 10345500}|\n",
            "|1977|           1029580|            9955000| {1029580, 9955000}|\n",
            "|1978|           1085550|           10123400|{1085550, 10123400}|\n",
            "|1979|           1208030|           11041500|{1208030, 11041500}|\n",
            "+----+------------------+-------------------+-------------------+\n",
            "only showing top 20 rows\n",
            "\n"
          ]
        }
      ],
      "source": [
        "#Expected_solution"
      ]
    },
    {
      "cell_type": "code",
      "execution_count": 15,
      "metadata": {},
      "outputs": [
        {
          "name": "stdout",
          "output_type": "stream",
          "text": [
            "+----+------------------+-------------------+-------------------+\n",
            "|Year|TotalViolentCrimes|TotalPropertyCrimes|        TotalCrimes|\n",
            "+----+------------------+-------------------+-------------------+\n",
            "|1960|            288460|            3095700|  {288460, 3095700}|\n",
            "|1961|            289390|            3198600|  {289390, 3198600}|\n",
            "|1962|            301510|            3450700|  {301510, 3450700}|\n",
            "|1963|            316970|            3792500|  {316970, 3792500}|\n",
            "|1964|            364220|            4200400|  {364220, 4200400}|\n",
            "|1965|            387390|            4352000|  {387390, 4352000}|\n",
            "|1966|            430180|            4793300|  {430180, 4793300}|\n",
            "|1967|            499930|            5403500|  {499930, 5403500}|\n",
            "|1968|            595010|            6125200|  {595010, 6125200}|\n",
            "|1969|            661870|            6749000|  {661870, 6749000}|\n",
            "|1970|            738820|            7359200|  {738820, 7359200}|\n",
            "|1971|            816500|            7771700|  {816500, 7771700}|\n",
            "|1972|            834900|            7413900|  {834900, 7413900}|\n",
            "|1973|            875910|            7842200|  {875910, 7842200}|\n",
            "|1974|            974720|            9278700|  {974720, 9278700}|\n",
            "|1975|           1039710|           10252700|{1039710, 10252700}|\n",
            "|1976|           1004210|           10345500|{1004210, 10345500}|\n",
            "|1977|           1029580|            9955000| {1029580, 9955000}|\n",
            "|1978|           1085550|           10123400|{1085550, 10123400}|\n",
            "|1979|           1208030|           11041500|{1208030, 11041500}|\n",
            "+----+------------------+-------------------+-------------------+\n",
            "only showing top 20 rows\n",
            "\n"
          ]
        }
      ],
      "source": [
        "#My_solution\n",
        "\n",
        "# importing the library\n",
        "from pyspark.sql.functions import struct,sum\n",
        "\n",
        "#Calculate the total sum of \"Violent\" and \"Property\" crimes for each year in the US_Crime_Rates_1960_2014_df & \n",
        "# Storing the results in a struct type column.\n",
        "sum_violent_property_crimes_by_year = US_Crime_Rates_1960_2014_df.groupBy('Year') \\\n",
        "    .agg(\n",
        "        sum(\"Violent\").alias(\"TotalViolentCrimes\"),\n",
        "        sum(\"Property\").alias(\"TotalPropertyCrimes\")\n",
        "    ) \\\n",
        "    .withColumn(\"TotalCrimes\", struct(\"TotalViolentCrimes\", \"TotalPropertyCrimes\")) \\\n",
        "    .orderBy(\"Year\")\n",
        "\n",
        "sum_violent_property_crimes_by_year.show()"
      ]
    },
    {
      "cell_type": "markdown",
      "metadata": {
        "id": "2fLAY5LzR060"
      },
      "source": [
        "### Grouping\n",
        "\n",
        "Question: In the given US_Crime_Rates_1960_2014_df DataFrame, you are tasked with finding the average of all crimes combined for each year. Calculate the sum of all crime categories (Violent, Property, Murder, Forcible_Rape, Robbery, Aggravated_assault, Burglary, Larceny_Theft, Vehicle_Theft) for each year and then determine the average of these combined crime sums. Provide the result as the average of all crimes across the entire dataset."
      ]
    },
    {
      "cell_type": "code",
      "execution_count": null,
      "metadata": {
        "id": "L1q4atGvR060",
        "outputId": "cea96a60-2e70-4d28-8327-a6faa4085669"
      },
      "outputs": [
        {
          "name": "stdout",
          "output_type": "stream",
          "text": [
            "Average of all crimes: 21201546.145454545\n",
            "+----+---------+\n",
            "|Year|AVG_Crime|\n",
            "+----+---------+\n",
            "|1960|  6768320|\n",
            "|1961|  6975980|\n",
            "|1962|  7504420|\n",
            "|1963|  8218940|\n",
            "|1964|  9129240|\n",
            "|1965|  9478780|\n",
            "|1966| 10446960|\n",
            "|1967| 11806860|\n",
            "|1968| 13440420|\n",
            "|1969| 14821740|\n",
            "|1970| 16196040|\n",
            "|1971| 17176400|\n",
            "|1972| 16497600|\n",
            "|1973| 17436220|\n",
            "|1974| 20506940|\n",
            "|1975| 22584730|\n",
            "|1976| 22699410|\n",
            "|1977| 21969060|\n",
            "|1978| 22417910|\n",
            "|1979| 24499060|\n",
            "+----+---------+\n",
            "only showing top 20 rows\n",
            "\n"
          ]
        }
      ],
      "source": [
        "#Expected_solution"
      ]
    },
    {
      "cell_type": "code",
      "execution_count": 16,
      "metadata": {},
      "outputs": [
        {
          "name": "stdout",
          "output_type": "stream",
          "text": [
            "Average of all crime: 21201546.145454545\n",
            "+----+---------------+\n",
            "|year|total_crime_sum|\n",
            "+----+---------------+\n",
            "|1960|        6768320|\n",
            "|1961|        6975980|\n",
            "|1962|        7504420|\n",
            "|1963|        8218940|\n",
            "|1964|        9129240|\n",
            "|1965|        9478780|\n",
            "|1966|       10446960|\n",
            "|1967|       11806860|\n",
            "|1968|       13440420|\n",
            "|1969|       14821740|\n",
            "|1970|       16196040|\n",
            "|1971|       17176400|\n",
            "|1972|       16497600|\n",
            "|1973|       17436220|\n",
            "|1974|       20506940|\n",
            "|1975|       22584730|\n",
            "|1976|       22699410|\n",
            "|1977|       21969060|\n",
            "|1978|       22417910|\n",
            "|1979|       24499060|\n",
            "+----+---------------+\n",
            "only showing top 20 rows\n",
            "\n"
          ]
        }
      ],
      "source": [
        "#My_solution\n",
        "\n",
        "#Importing library\n",
        "from pyspark.sql.functions import col,avg\n",
        "\n",
        "total_sum = US_Crime_Rates_1960_2014_df.withColumn(\"Total_crime_sum\",\n",
        "                                                    col('violent') + col('property') + col('murder') + col('forcible_rape') + \n",
        "                                                    col('robbery') + col('Aggravated_assault') + col('Burglary')+ col('Larceny_Theft')\n",
        "                                                    + col('Vehicle_Theft')).alias('Total_crime_sum')\n",
        "\n",
        "# total_sum.show()\n",
        "\n",
        "\n",
        "avegare_crime = total_sum.agg(avg('total_crime_sum'))\n",
        "print(f\"Average of all crime: {avegare_crime.collect()[0][0]}\")\n",
        "\n",
        "total_sum.select('year','total_crime_sum').show()\n",
        "# avegare_crime.show()\n",
        "# average_crime = total_sum.groupBy('year').agg(avg('total_crime_sum').alias('average_crime'))\n",
        "# average_crime.show()"
      ]
    },
    {
      "cell_type": "markdown",
      "metadata": {
        "id": "6723zME1R060"
      },
      "source": [
        "### Window Functions\n",
        "\n",
        "Question: Calculate the cumulative sum of \"Property\" values over the years using a window function in the US_Crime_Rates_1960_2014_df DataFrame."
      ]
    },
    {
      "cell_type": "code",
      "execution_count": null,
      "metadata": {
        "id": "zMmE7DHcR060",
        "outputId": "f12492f2-f0ac-4f82-e8d9-731011daf2be"
      },
      "outputs": [
        {
          "name": "stdout",
          "output_type": "stream",
          "text": [
            "+----+----------+--------+-------+--------+------+-------------+-------+------------------+--------+-------------+-------------+---------------------+\n",
            "|Year|Population|   Total|Violent|Property|Murder|Forcible_Rape|Robbery|Aggravated_assault|Burglary|Larceny_Theft|Vehicle_Theft|CumulativePropertySum|\n",
            "+----+----------+--------+-------+--------+------+-------------+-------+------------------+--------+-------------+-------------+---------------------+\n",
            "|1960| 179323175| 3384200| 288460| 3095700|  9110|        17190| 107840|            154320|  912100|      1855400|       328200|              3095700|\n",
            "|1961| 182992000| 3488000| 289390| 3198600|  8740|        17220| 106670|            156760|  949600|      1913000|       336000|              3198600|\n",
            "|1962| 185771000| 3752200| 301510| 3450700|  8530|        17550| 110860|            164570|  994300|      2089600|       366800|              3450700|\n",
            "|1963| 188483000| 4109500| 316970| 3792500|  8640|        17650| 116470|            174210| 1086400|      2297800|       408300|              3792500|\n",
            "|1964| 191141000| 4564600| 364220| 4200400|  9360|        21420| 130390|            203050| 1213200|      2514400|       472800|              4200400|\n",
            "|1965| 193526000| 4739400| 387390| 4352000|  9960|        23410| 138690|            215330| 1282500|      2572600|       496900|              4352000|\n",
            "|1966| 195576000| 5223500| 430180| 4793300| 11040|        25820| 157990|            235330| 1410100|      2822000|       561200|              4793300|\n",
            "|1967| 197457000| 5903400| 499930| 5403500| 12240|        27620| 202910|            257160| 1632100|      3111600|       659800|              5403500|\n",
            "|1968| 199399000| 6720200| 595010| 6125200| 13800|        31670| 262840|            286700| 1858900|      3482700|       783600|              6125200|\n",
            "|1969| 201385000| 7410900| 661870| 6749000| 14760|        37170| 298850|            311090| 1981900|      3888600|       878500|              6749000|\n",
            "|1970| 203235298| 8098000| 738820| 7359200| 16000|        37990| 349860|            334970| 2205000|      4225800|       928400|              7359200|\n",
            "|1971| 206212000| 8588200| 816500| 7771700| 17780|        42260| 387700|            368760| 2399300|      4424200|       948200|              7771700|\n",
            "|1972| 208230000| 8248800| 834900| 7413900| 18670|        46850| 376290|            393090| 2375500|      4151200|       887200|              7413900|\n",
            "|1973| 209851000| 8718100| 875910| 7842200| 19640|        51400| 384220|            420650| 2565500|      4347900|       928800|              7842200|\n",
            "|1974| 211392000|10253400| 974720| 9278700| 20710|        55400| 442400|            456210| 3039200|      5262500|       977100|              9278700|\n",
            "|1975| 213124000|11292400|1039710|10252700| 20510|        56090| 470500|            492620| 3265300|      5977700|      1009600|             10252700|\n",
            "|1976| 214659000|11349700|1004210|10345500| 18780|        57080| 427810|            500530| 3108700|      6270800|       966000|             10345500|\n",
            "|1977| 216332000|10984500|1029580| 9955000| 19120|        63500| 412610|            534350| 3071500|      5905700|       977700|              9955000|\n",
            "|1978| 218059000|11209000|1085550|10123400| 19560|        67610| 426930|            571460| 3128300|      5991000|      1004100|             10123400|\n",
            "|1979| 220099000|12249500|1208030|11041500| 21460|        76390| 480700|            629480| 3327700|      6601000|      1112800|             11041500|\n",
            "+----+----------+--------+-------+--------+------+-------------+-------+------------------+--------+-------------+-------------+---------------------+\n",
            "only showing top 20 rows\n",
            "\n"
          ]
        }
      ],
      "source": [
        "#Expected_solution"
      ]
    },
    {
      "cell_type": "code",
      "execution_count": 17,
      "metadata": {},
      "outputs": [
        {
          "name": "stderr",
          "output_type": "stream",
          "text": [
            "23/09/04 00:33:15 WARN WindowExec: No Partition Defined for Window operation! Moving all data to a single partition, this can cause serious performance degradation.\n",
            "23/09/04 00:33:15 WARN WindowExec: No Partition Defined for Window operation! Moving all data to a single partition, this can cause serious performance degradation.\n",
            "23/09/04 00:33:15 WARN WindowExec: No Partition Defined for Window operation! Moving all data to a single partition, this can cause serious performance degradation.\n",
            "23/09/04 00:33:15 WARN WindowExec: No Partition Defined for Window operation! Moving all data to a single partition, this can cause serious performance degradation.\n",
            "23/09/04 00:33:15 WARN WindowExec: No Partition Defined for Window operation! Moving all data to a single partition, this can cause serious performance degradation.\n"
          ]
        },
        {
          "name": "stdout",
          "output_type": "stream",
          "text": [
            "+----+----------+--------+-------+--------+------+-------------+-------+------------------+--------+-------------+-------------+---------+\n",
            "|Year|Population|   Total|Violent|Property|Murder|Forcible_Rape|Robbery|Aggravated_assault|Burglary|Larceny_Theft|Vehicle_Theft|  cum_sum|\n",
            "+----+----------+--------+-------+--------+------+-------------+-------+------------------+--------+-------------+-------------+---------+\n",
            "|1960| 179323175| 3384200| 288460| 3095700|  9110|        17190| 107840|            154320|  912100|      1855400|       328200|  3095700|\n",
            "|1961| 182992000| 3488000| 289390| 3198600|  8740|        17220| 106670|            156760|  949600|      1913000|       336000|  6294300|\n",
            "|1962| 185771000| 3752200| 301510| 3450700|  8530|        17550| 110860|            164570|  994300|      2089600|       366800|  9745000|\n",
            "|1963| 188483000| 4109500| 316970| 3792500|  8640|        17650| 116470|            174210| 1086400|      2297800|       408300| 13537500|\n",
            "|1964| 191141000| 4564600| 364220| 4200400|  9360|        21420| 130390|            203050| 1213200|      2514400|       472800| 17737900|\n",
            "|1965| 193526000| 4739400| 387390| 4352000|  9960|        23410| 138690|            215330| 1282500|      2572600|       496900| 22089900|\n",
            "|1966| 195576000| 5223500| 430180| 4793300| 11040|        25820| 157990|            235330| 1410100|      2822000|       561200| 26883200|\n",
            "|1967| 197457000| 5903400| 499930| 5403500| 12240|        27620| 202910|            257160| 1632100|      3111600|       659800| 32286700|\n",
            "|1968| 199399000| 6720200| 595010| 6125200| 13800|        31670| 262840|            286700| 1858900|      3482700|       783600| 38411900|\n",
            "|1969| 201385000| 7410900| 661870| 6749000| 14760|        37170| 298850|            311090| 1981900|      3888600|       878500| 45160900|\n",
            "|1970| 203235298| 8098000| 738820| 7359200| 16000|        37990| 349860|            334970| 2205000|      4225800|       928400| 52520100|\n",
            "|1971| 206212000| 8588200| 816500| 7771700| 17780|        42260| 387700|            368760| 2399300|      4424200|       948200| 60291800|\n",
            "|1972| 208230000| 8248800| 834900| 7413900| 18670|        46850| 376290|            393090| 2375500|      4151200|       887200| 67705700|\n",
            "|1973| 209851000| 8718100| 875910| 7842200| 19640|        51400| 384220|            420650| 2565500|      4347900|       928800| 75547900|\n",
            "|1974| 211392000|10253400| 974720| 9278700| 20710|        55400| 442400|            456210| 3039200|      5262500|       977100| 84826600|\n",
            "|1975| 213124000|11292400|1039710|10252700| 20510|        56090| 470500|            492620| 3265300|      5977700|      1009600| 95079300|\n",
            "|1976| 214659000|11349700|1004210|10345500| 18780|        57080| 427810|            500530| 3108700|      6270800|       966000|105424800|\n",
            "|1977| 216332000|10984500|1029580| 9955000| 19120|        63500| 412610|            534350| 3071500|      5905700|       977700|115379800|\n",
            "|1978| 218059000|11209000|1085550|10123400| 19560|        67610| 426930|            571460| 3128300|      5991000|      1004100|125503200|\n",
            "|1979| 220099000|12249500|1208030|11041500| 21460|        76390| 480700|            629480| 3327700|      6601000|      1112800|136544700|\n",
            "+----+----------+--------+-------+--------+------+-------------+-------+------------------+--------+-------------+-------------+---------+\n",
            "only showing top 20 rows\n",
            "\n"
          ]
        }
      ],
      "source": [
        "#My_solution\n",
        "\n",
        "from pyspark.sql.window import Window \n",
        "from pyspark.sql.functions import sum as _sum \n",
        "\n",
        "windowSpec = Window.orderBy('year').rowsBetween(Window.unboundedPreceding, Window.currentRow)\n",
        "\n",
        "new_df = US_Crime_Rates_1960_2014_df.withColumn('cum_sum', _sum('property').over(windowSpec))\n",
        "new_df.show()"
      ]
    },
    {
      "cell_type": "markdown",
      "metadata": {
        "id": "o68ntZwOR060"
      },
      "source": [
        "### Pivot\n",
        "Question: You are working with a DataFrame named US_Crime_Rates_1960_2014_df that contains crime data for different crime types over the years."
      ]
    },
    {
      "cell_type": "code",
      "execution_count": null,
      "metadata": {
        "id": "m5J8i_ACR060",
        "outputId": "8f7b8b40-434b-4bc5-96de-726fa89c8220"
      },
      "outputs": [
        {
          "name": "stderr",
          "output_type": "stream",
          "text": [
            "                                                                                \r"
          ]
        },
        {
          "name": "stdout",
          "output_type": "stream",
          "text": [
            "+----+------+------+------+------+------+------+------+------+------+------+------+------+------+------+------+------+------+------+------+------+----+----+----+----+----+----+----+----+----+----+----+----+----+----+----+----+----+----+----+----+----+----+----+----+----+----+----+----+----+----+----+----+----+----+----+\n",
            "|Year|  1960|  1961|  1962|  1963|  1964|  1965|  1966|  1967|  1968|  1969|  1970|  1971|  1972|  1973|  1974|  1975|  1976|  1977|  1978|  1979|1980|1981|1982|1983|1984|1985|1986|1987|1988|1989|1990|1991|1992|1993|1994|1995|1996|1997|1998|1999|2000|2001|2002|2003|2004|2005|2006|2007|2008|2009|2010|2011|2012|2013|2014|\n",
            "+----+------+------+------+------+------+------+------+------+------+------+------+------+------+------+------+------+------+------+------+------+----+----+----+----+----+----+----+----+----+----+----+----+----+----+----+----+----+----+----+----+----+----+----+----+----+----+----+----+----+----+----+----+----+----+----+\n",
            "|1960|107840|  null|  null|  null|  null|  null|  null|  null|  null|  null|  null|  null|  null|  null|  null|  null|  null|  null|  null|  null|null|null|null|null|null|null|null|null|null|null|null|null|null|null|null|null|null|null|null|null|null|null|null|null|null|null|null|null|null|null|null|null|null|null|null|\n",
            "|1961|  null|106670|  null|  null|  null|  null|  null|  null|  null|  null|  null|  null|  null|  null|  null|  null|  null|  null|  null|  null|null|null|null|null|null|null|null|null|null|null|null|null|null|null|null|null|null|null|null|null|null|null|null|null|null|null|null|null|null|null|null|null|null|null|null|\n",
            "|1962|  null|  null|110860|  null|  null|  null|  null|  null|  null|  null|  null|  null|  null|  null|  null|  null|  null|  null|  null|  null|null|null|null|null|null|null|null|null|null|null|null|null|null|null|null|null|null|null|null|null|null|null|null|null|null|null|null|null|null|null|null|null|null|null|null|\n",
            "|1963|  null|  null|  null|116470|  null|  null|  null|  null|  null|  null|  null|  null|  null|  null|  null|  null|  null|  null|  null|  null|null|null|null|null|null|null|null|null|null|null|null|null|null|null|null|null|null|null|null|null|null|null|null|null|null|null|null|null|null|null|null|null|null|null|null|\n",
            "|1964|  null|  null|  null|  null|130390|  null|  null|  null|  null|  null|  null|  null|  null|  null|  null|  null|  null|  null|  null|  null|null|null|null|null|null|null|null|null|null|null|null|null|null|null|null|null|null|null|null|null|null|null|null|null|null|null|null|null|null|null|null|null|null|null|null|\n",
            "|1965|  null|  null|  null|  null|  null|138690|  null|  null|  null|  null|  null|  null|  null|  null|  null|  null|  null|  null|  null|  null|null|null|null|null|null|null|null|null|null|null|null|null|null|null|null|null|null|null|null|null|null|null|null|null|null|null|null|null|null|null|null|null|null|null|null|\n",
            "|1966|  null|  null|  null|  null|  null|  null|157990|  null|  null|  null|  null|  null|  null|  null|  null|  null|  null|  null|  null|  null|null|null|null|null|null|null|null|null|null|null|null|null|null|null|null|null|null|null|null|null|null|null|null|null|null|null|null|null|null|null|null|null|null|null|null|\n",
            "|1967|  null|  null|  null|  null|  null|  null|  null|202910|  null|  null|  null|  null|  null|  null|  null|  null|  null|  null|  null|  null|null|null|null|null|null|null|null|null|null|null|null|null|null|null|null|null|null|null|null|null|null|null|null|null|null|null|null|null|null|null|null|null|null|null|null|\n",
            "|1968|  null|  null|  null|  null|  null|  null|  null|  null|262840|  null|  null|  null|  null|  null|  null|  null|  null|  null|  null|  null|null|null|null|null|null|null|null|null|null|null|null|null|null|null|null|null|null|null|null|null|null|null|null|null|null|null|null|null|null|null|null|null|null|null|null|\n",
            "|1969|  null|  null|  null|  null|  null|  null|  null|  null|  null|298850|  null|  null|  null|  null|  null|  null|  null|  null|  null|  null|null|null|null|null|null|null|null|null|null|null|null|null|null|null|null|null|null|null|null|null|null|null|null|null|null|null|null|null|null|null|null|null|null|null|null|\n",
            "|1970|  null|  null|  null|  null|  null|  null|  null|  null|  null|  null|349860|  null|  null|  null|  null|  null|  null|  null|  null|  null|null|null|null|null|null|null|null|null|null|null|null|null|null|null|null|null|null|null|null|null|null|null|null|null|null|null|null|null|null|null|null|null|null|null|null|\n",
            "|1971|  null|  null|  null|  null|  null|  null|  null|  null|  null|  null|  null|387700|  null|  null|  null|  null|  null|  null|  null|  null|null|null|null|null|null|null|null|null|null|null|null|null|null|null|null|null|null|null|null|null|null|null|null|null|null|null|null|null|null|null|null|null|null|null|null|\n",
            "|1972|  null|  null|  null|  null|  null|  null|  null|  null|  null|  null|  null|  null|376290|  null|  null|  null|  null|  null|  null|  null|null|null|null|null|null|null|null|null|null|null|null|null|null|null|null|null|null|null|null|null|null|null|null|null|null|null|null|null|null|null|null|null|null|null|null|\n",
            "|1973|  null|  null|  null|  null|  null|  null|  null|  null|  null|  null|  null|  null|  null|384220|  null|  null|  null|  null|  null|  null|null|null|null|null|null|null|null|null|null|null|null|null|null|null|null|null|null|null|null|null|null|null|null|null|null|null|null|null|null|null|null|null|null|null|null|\n",
            "|1974|  null|  null|  null|  null|  null|  null|  null|  null|  null|  null|  null|  null|  null|  null|442400|  null|  null|  null|  null|  null|null|null|null|null|null|null|null|null|null|null|null|null|null|null|null|null|null|null|null|null|null|null|null|null|null|null|null|null|null|null|null|null|null|null|null|\n",
            "|1975|  null|  null|  null|  null|  null|  null|  null|  null|  null|  null|  null|  null|  null|  null|  null|470500|  null|  null|  null|  null|null|null|null|null|null|null|null|null|null|null|null|null|null|null|null|null|null|null|null|null|null|null|null|null|null|null|null|null|null|null|null|null|null|null|null|\n",
            "|1976|  null|  null|  null|  null|  null|  null|  null|  null|  null|  null|  null|  null|  null|  null|  null|  null|427810|  null|  null|  null|null|null|null|null|null|null|null|null|null|null|null|null|null|null|null|null|null|null|null|null|null|null|null|null|null|null|null|null|null|null|null|null|null|null|null|\n",
            "|1977|  null|  null|  null|  null|  null|  null|  null|  null|  null|  null|  null|  null|  null|  null|  null|  null|  null|412610|  null|  null|null|null|null|null|null|null|null|null|null|null|null|null|null|null|null|null|null|null|null|null|null|null|null|null|null|null|null|null|null|null|null|null|null|null|null|\n",
            "|1978|  null|  null|  null|  null|  null|  null|  null|  null|  null|  null|  null|  null|  null|  null|  null|  null|  null|  null|426930|  null|null|null|null|null|null|null|null|null|null|null|null|null|null|null|null|null|null|null|null|null|null|null|null|null|null|null|null|null|null|null|null|null|null|null|null|\n",
            "|1979|  null|  null|  null|  null|  null|  null|  null|  null|  null|  null|  null|  null|  null|  null|  null|  null|  null|  null|  null|480700|null|null|null|null|null|null|null|null|null|null|null|null|null|null|null|null|null|null|null|null|null|null|null|null|null|null|null|null|null|null|null|null|null|null|null|\n",
            "+----+------+------+------+------+------+------+------+------+------+------+------+------+------+------+------+------+------+------+------+------+----+----+----+----+----+----+----+----+----+----+----+----+----+----+----+----+----+----+----+----+----+----+----+----+----+----+----+----+----+----+----+----+----+----+----+\n",
            "only showing top 20 rows\n",
            "\n"
          ]
        }
      ],
      "source": [
        "#Expected_solution"
      ]
    },
    {
      "cell_type": "code",
      "execution_count": 18,
      "metadata": {},
      "outputs": [
        {
          "name": "stdout",
          "output_type": "stream",
          "text": [
            "+----+------+------+------+------+------+------+------+------+------+------+------+------+------+------+------+------+------+------+------+------+----+----+----+----+----+----+----+----+----+----+----+----+----+----+----+----+----+----+----+----+----+----+----+----+----+----+----+----+----+----+----+----+----+----+----+\n",
            "|year|  1960|  1961|  1962|  1963|  1964|  1965|  1966|  1967|  1968|  1969|  1970|  1971|  1972|  1973|  1974|  1975|  1976|  1977|  1978|  1979|1980|1981|1982|1983|1984|1985|1986|1987|1988|1989|1990|1991|1992|1993|1994|1995|1996|1997|1998|1999|2000|2001|2002|2003|2004|2005|2006|2007|2008|2009|2010|2011|2012|2013|2014|\n",
            "+----+------+------+------+------+------+------+------+------+------+------+------+------+------+------+------+------+------+------+------+------+----+----+----+----+----+----+----+----+----+----+----+----+----+----+----+----+----+----+----+----+----+----+----+----+----+----+----+----+----+----+----+----+----+----+----+\n",
            "|1960|107840|  null|  null|  null|  null|  null|  null|  null|  null|  null|  null|  null|  null|  null|  null|  null|  null|  null|  null|  null|null|null|null|null|null|null|null|null|null|null|null|null|null|null|null|null|null|null|null|null|null|null|null|null|null|null|null|null|null|null|null|null|null|null|null|\n",
            "|1961|  null|106670|  null|  null|  null|  null|  null|  null|  null|  null|  null|  null|  null|  null|  null|  null|  null|  null|  null|  null|null|null|null|null|null|null|null|null|null|null|null|null|null|null|null|null|null|null|null|null|null|null|null|null|null|null|null|null|null|null|null|null|null|null|null|\n",
            "|1962|  null|  null|110860|  null|  null|  null|  null|  null|  null|  null|  null|  null|  null|  null|  null|  null|  null|  null|  null|  null|null|null|null|null|null|null|null|null|null|null|null|null|null|null|null|null|null|null|null|null|null|null|null|null|null|null|null|null|null|null|null|null|null|null|null|\n",
            "|1963|  null|  null|  null|116470|  null|  null|  null|  null|  null|  null|  null|  null|  null|  null|  null|  null|  null|  null|  null|  null|null|null|null|null|null|null|null|null|null|null|null|null|null|null|null|null|null|null|null|null|null|null|null|null|null|null|null|null|null|null|null|null|null|null|null|\n",
            "|1964|  null|  null|  null|  null|130390|  null|  null|  null|  null|  null|  null|  null|  null|  null|  null|  null|  null|  null|  null|  null|null|null|null|null|null|null|null|null|null|null|null|null|null|null|null|null|null|null|null|null|null|null|null|null|null|null|null|null|null|null|null|null|null|null|null|\n",
            "|1965|  null|  null|  null|  null|  null|138690|  null|  null|  null|  null|  null|  null|  null|  null|  null|  null|  null|  null|  null|  null|null|null|null|null|null|null|null|null|null|null|null|null|null|null|null|null|null|null|null|null|null|null|null|null|null|null|null|null|null|null|null|null|null|null|null|\n",
            "|1966|  null|  null|  null|  null|  null|  null|157990|  null|  null|  null|  null|  null|  null|  null|  null|  null|  null|  null|  null|  null|null|null|null|null|null|null|null|null|null|null|null|null|null|null|null|null|null|null|null|null|null|null|null|null|null|null|null|null|null|null|null|null|null|null|null|\n",
            "|1967|  null|  null|  null|  null|  null|  null|  null|202910|  null|  null|  null|  null|  null|  null|  null|  null|  null|  null|  null|  null|null|null|null|null|null|null|null|null|null|null|null|null|null|null|null|null|null|null|null|null|null|null|null|null|null|null|null|null|null|null|null|null|null|null|null|\n",
            "|1968|  null|  null|  null|  null|  null|  null|  null|  null|262840|  null|  null|  null|  null|  null|  null|  null|  null|  null|  null|  null|null|null|null|null|null|null|null|null|null|null|null|null|null|null|null|null|null|null|null|null|null|null|null|null|null|null|null|null|null|null|null|null|null|null|null|\n",
            "|1969|  null|  null|  null|  null|  null|  null|  null|  null|  null|298850|  null|  null|  null|  null|  null|  null|  null|  null|  null|  null|null|null|null|null|null|null|null|null|null|null|null|null|null|null|null|null|null|null|null|null|null|null|null|null|null|null|null|null|null|null|null|null|null|null|null|\n",
            "|1970|  null|  null|  null|  null|  null|  null|  null|  null|  null|  null|349860|  null|  null|  null|  null|  null|  null|  null|  null|  null|null|null|null|null|null|null|null|null|null|null|null|null|null|null|null|null|null|null|null|null|null|null|null|null|null|null|null|null|null|null|null|null|null|null|null|\n",
            "|1971|  null|  null|  null|  null|  null|  null|  null|  null|  null|  null|  null|387700|  null|  null|  null|  null|  null|  null|  null|  null|null|null|null|null|null|null|null|null|null|null|null|null|null|null|null|null|null|null|null|null|null|null|null|null|null|null|null|null|null|null|null|null|null|null|null|\n",
            "|1972|  null|  null|  null|  null|  null|  null|  null|  null|  null|  null|  null|  null|376290|  null|  null|  null|  null|  null|  null|  null|null|null|null|null|null|null|null|null|null|null|null|null|null|null|null|null|null|null|null|null|null|null|null|null|null|null|null|null|null|null|null|null|null|null|null|\n",
            "|1973|  null|  null|  null|  null|  null|  null|  null|  null|  null|  null|  null|  null|  null|384220|  null|  null|  null|  null|  null|  null|null|null|null|null|null|null|null|null|null|null|null|null|null|null|null|null|null|null|null|null|null|null|null|null|null|null|null|null|null|null|null|null|null|null|null|\n",
            "|1974|  null|  null|  null|  null|  null|  null|  null|  null|  null|  null|  null|  null|  null|  null|442400|  null|  null|  null|  null|  null|null|null|null|null|null|null|null|null|null|null|null|null|null|null|null|null|null|null|null|null|null|null|null|null|null|null|null|null|null|null|null|null|null|null|null|\n",
            "|1975|  null|  null|  null|  null|  null|  null|  null|  null|  null|  null|  null|  null|  null|  null|  null|470500|  null|  null|  null|  null|null|null|null|null|null|null|null|null|null|null|null|null|null|null|null|null|null|null|null|null|null|null|null|null|null|null|null|null|null|null|null|null|null|null|null|\n",
            "|1976|  null|  null|  null|  null|  null|  null|  null|  null|  null|  null|  null|  null|  null|  null|  null|  null|427810|  null|  null|  null|null|null|null|null|null|null|null|null|null|null|null|null|null|null|null|null|null|null|null|null|null|null|null|null|null|null|null|null|null|null|null|null|null|null|null|\n",
            "|1977|  null|  null|  null|  null|  null|  null|  null|  null|  null|  null|  null|  null|  null|  null|  null|  null|  null|412610|  null|  null|null|null|null|null|null|null|null|null|null|null|null|null|null|null|null|null|null|null|null|null|null|null|null|null|null|null|null|null|null|null|null|null|null|null|null|\n",
            "|1978|  null|  null|  null|  null|  null|  null|  null|  null|  null|  null|  null|  null|  null|  null|  null|  null|  null|  null|426930|  null|null|null|null|null|null|null|null|null|null|null|null|null|null|null|null|null|null|null|null|null|null|null|null|null|null|null|null|null|null|null|null|null|null|null|null|\n",
            "|1979|  null|  null|  null|  null|  null|  null|  null|  null|  null|  null|  null|  null|  null|  null|  null|  null|  null|  null|  null|480700|null|null|null|null|null|null|null|null|null|null|null|null|null|null|null|null|null|null|null|null|null|null|null|null|null|null|null|null|null|null|null|null|null|null|null|\n",
            "+----+------+------+------+------+------+------+------+------+------+------+------+------+------+------+------+------+------+------+------+------+----+----+----+----+----+----+----+----+----+----+----+----+----+----+----+----+----+----+----+----+----+----+----+----+----+----+----+----+----+----+----+----+----+----+----+\n",
            "only showing top 20 rows\n",
            "\n"
          ]
        }
      ],
      "source": [
        "#My_solution\n",
        "\n",
        "#Importing library\n",
        "from pyspark.sql.functions import asc,desc\n",
        "\n",
        "\n",
        "#creating a pivot table of year where the value of robbery of the year is shown.\n",
        "pivot_table_robery = US_Crime_Rates_1960_2014_df.groupBy('year').pivot('year').sum('robbery').sort(asc('year'))\n",
        "pivot_table_robery.show()"
      ]
    },
    {
      "cell_type": "code",
      "execution_count": null,
      "metadata": {
        "id": "d65UvyLlR061"
      },
      "outputs": [],
      "source": []
    },
    {
      "cell_type": "code",
      "execution_count": null,
      "metadata": {
        "id": "T2g68wufR061"
      },
      "outputs": [],
      "source": []
    }
  ],
  "metadata": {
    "colab": {
      "provenance": []
    },
    "kernelspec": {
      "display_name": "Python 3",
      "language": "python",
      "name": "python3"
    },
    "language_info": {
      "codemirror_mode": {
        "name": "ipython",
        "version": 3
      },
      "file_extension": ".py",
      "mimetype": "text/x-python",
      "name": "python",
      "nbconvert_exporter": "python",
      "pygments_lexer": "ipython3",
      "version": "3.11.5"
    },
    "orig_nbformat": 4,
    "vscode": {
      "interpreter": {
        "hash": "b0fa6594d8f4cbf19f97940f81e996739fb7646882a419484c72d19e05852a7e"
      }
    }
  },
  "nbformat": 4,
  "nbformat_minor": 0
}
